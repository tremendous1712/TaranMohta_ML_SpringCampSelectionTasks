{
  "cells": [
    {
      "cell_type": "markdown",
      "source": [
        "###Task 2: Quarks and Gluons\n",
        "Task involves making a classification model to distinguish quark or gluon jets.\n",
        "\n",
        "Upon trying various models, concluded that almost all give the same accuracy.\n",
        "\n",
        "I have used the Logisitic Regression model."
      ],
      "metadata": {
        "id": "wuA5W5PecEi8"
      }
    },
    {
      "cell_type": "markdown",
      "source": [
        "##Loading Dependencies"
      ],
      "metadata": {
        "id": "GAhXd148YC07"
      }
    },
    {
      "cell_type": "code",
      "execution_count": 1,
      "metadata": {
        "id": "Z9j14sPa-Vrc"
      },
      "outputs": [],
      "source": [
        "import numpy as np\n",
        "import pandas as pd\n",
        "import matplotlib.pyplot as plt\n",
        "import sklearn.datasets\n",
        "from sklearn.model_selection import train_test_split"
      ]
    },
    {
      "cell_type": "markdown",
      "source": [
        "##Loading Data"
      ],
      "metadata": {
        "id": "HI8DzYAjYHOe"
      }
    },
    {
      "cell_type": "code",
      "execution_count": 4,
      "metadata": {
        "colab": {
          "base_uri": "https://localhost:8080/"
        },
        "id": "7rPfiJvI_-tm",
        "outputId": "be3884f3-c7ec-431d-f111-57f61229dbba"
      },
      "outputs": [
        {
          "output_type": "stream",
          "name": "stdout",
          "text": [
            "NpzFile 'QG_jets.npz' with keys: X, y\n"
          ]
        }
      ],
      "source": [
        "data = np.load('QG_jets.npz')\n",
        "\n",
        "print(data)"
      ]
    },
    {
      "cell_type": "markdown",
      "source": [
        "##Assigning Features to X and target to Y"
      ],
      "metadata": {
        "id": "3yd6UwY_YVJ8"
      }
    },
    {
      "cell_type": "code",
      "execution_count": 5,
      "metadata": {
        "colab": {
          "base_uri": "https://localhost:8080/"
        },
        "id": "ujOD3a1SC5cQ",
        "outputId": "9a82e4fe-c420-4add-dbeb-afb148ce6497"
      },
      "outputs": [
        {
          "output_type": "stream",
          "name": "stdout",
          "text": [
            "X shape: (100000, 139, 4)\n",
            "y shape: (100000,)\n"
          ]
        }
      ],
      "source": [
        "X = data['X']\n",
        "y = data['y']\n",
        "\n",
        "print(\"X shape:\", X.shape) #revealed 3-d array\n",
        "print(\"y shape:\", y.shape)"
      ]
    },
    {
      "cell_type": "code",
      "execution_count": 6,
      "metadata": {
        "colab": {
          "base_uri": "https://localhost:8080/"
        },
        "id": "Xj5koUQOD0Iv",
        "outputId": "745d6c73-cd53-4752-df57-cfe27a6a1291"
      },
      "outputs": [
        {
          "output_type": "stream",
          "name": "stdout",
          "text": [
            "[[ 2.68769142e-01  3.56903171e-01  4.74138734e+00  2.20000000e+01]\n",
            " [ 1.60076377e-01 -2.55609533e-01  4.55022910e+00  2.20000000e+01]\n",
            " [ 1.14868731e+00 -6.24380156e-02  4.50385377e+00 -2.11000000e+02]\n",
            " [ 4.13159146e+00  1.73686350e-01  4.76622410e+00 -3.21000000e+02]\n",
            " [ 1.69599701e+00 -2.12177764e-01  4.79687162e+00 -2.11000000e+02]\n",
            " [ 2.19372581e+00 -5.24780791e-02  4.57559636e+00  2.20000000e+01]\n",
            " [ 1.61909680e+00 -6.76247614e-02  4.64561192e+00  2.20000000e+01]\n",
            " [ 6.59214883e+00  4.42691311e-02  4.76597141e+00  2.11000000e+02]\n",
            " [ 3.77096258e+00  4.22475280e-02  4.75473207e+00  3.21000000e+02]\n",
            " [ 1.34816345e+01 -2.80005472e-02  4.73543183e+00 -2.11000000e+02]\n",
            " [ 4.10794493e+00 -2.37648715e-02  4.75891312e+00  2.20000000e+01]\n",
            " [ 2.16455176e+01 -2.69973695e-02  4.75997450e+00  2.20000000e+01]\n",
            " [ 6.77551168e+00 -2.97549224e-02  4.76127746e+00  2.20000000e+01]\n",
            " [ 1.32550803e+01 -3.94389998e-02  4.74948328e+00  2.20000000e+01]\n",
            " [ 2.98350842e+00 -3.66033986e-02  4.74619579e+00  2.20000000e+01]\n",
            " [ 3.73743866e+01 -3.54428448e-02  4.75481319e+00  2.20000000e+01]\n",
            " [ 3.35399046e+02 -3.25602518e-02  4.75085918e+00  2.20000000e+01]\n",
            " [ 4.42135649e+01 -3.32763050e-02  4.75431907e+00  2.20000000e+01]\n",
            " [ 0.00000000e+00  0.00000000e+00  0.00000000e+00  0.00000000e+00]\n",
            " [ 0.00000000e+00  0.00000000e+00  0.00000000e+00  0.00000000e+00]\n",
            " [ 0.00000000e+00  0.00000000e+00  0.00000000e+00  0.00000000e+00]\n",
            " [ 0.00000000e+00  0.00000000e+00  0.00000000e+00  0.00000000e+00]\n",
            " [ 0.00000000e+00  0.00000000e+00  0.00000000e+00  0.00000000e+00]\n",
            " [ 0.00000000e+00  0.00000000e+00  0.00000000e+00  0.00000000e+00]\n",
            " [ 0.00000000e+00  0.00000000e+00  0.00000000e+00  0.00000000e+00]\n",
            " [ 0.00000000e+00  0.00000000e+00  0.00000000e+00  0.00000000e+00]\n",
            " [ 0.00000000e+00  0.00000000e+00  0.00000000e+00  0.00000000e+00]\n",
            " [ 0.00000000e+00  0.00000000e+00  0.00000000e+00  0.00000000e+00]\n",
            " [ 0.00000000e+00  0.00000000e+00  0.00000000e+00  0.00000000e+00]\n",
            " [ 0.00000000e+00  0.00000000e+00  0.00000000e+00  0.00000000e+00]\n",
            " [ 0.00000000e+00  0.00000000e+00  0.00000000e+00  0.00000000e+00]\n",
            " [ 0.00000000e+00  0.00000000e+00  0.00000000e+00  0.00000000e+00]\n",
            " [ 0.00000000e+00  0.00000000e+00  0.00000000e+00  0.00000000e+00]\n",
            " [ 0.00000000e+00  0.00000000e+00  0.00000000e+00  0.00000000e+00]\n",
            " [ 0.00000000e+00  0.00000000e+00  0.00000000e+00  0.00000000e+00]\n",
            " [ 0.00000000e+00  0.00000000e+00  0.00000000e+00  0.00000000e+00]\n",
            " [ 0.00000000e+00  0.00000000e+00  0.00000000e+00  0.00000000e+00]\n",
            " [ 0.00000000e+00  0.00000000e+00  0.00000000e+00  0.00000000e+00]\n",
            " [ 0.00000000e+00  0.00000000e+00  0.00000000e+00  0.00000000e+00]\n",
            " [ 0.00000000e+00  0.00000000e+00  0.00000000e+00  0.00000000e+00]\n",
            " [ 0.00000000e+00  0.00000000e+00  0.00000000e+00  0.00000000e+00]\n",
            " [ 0.00000000e+00  0.00000000e+00  0.00000000e+00  0.00000000e+00]\n",
            " [ 0.00000000e+00  0.00000000e+00  0.00000000e+00  0.00000000e+00]\n",
            " [ 0.00000000e+00  0.00000000e+00  0.00000000e+00  0.00000000e+00]\n",
            " [ 0.00000000e+00  0.00000000e+00  0.00000000e+00  0.00000000e+00]\n",
            " [ 0.00000000e+00  0.00000000e+00  0.00000000e+00  0.00000000e+00]\n",
            " [ 0.00000000e+00  0.00000000e+00  0.00000000e+00  0.00000000e+00]\n",
            " [ 0.00000000e+00  0.00000000e+00  0.00000000e+00  0.00000000e+00]\n",
            " [ 0.00000000e+00  0.00000000e+00  0.00000000e+00  0.00000000e+00]\n",
            " [ 0.00000000e+00  0.00000000e+00  0.00000000e+00  0.00000000e+00]\n",
            " [ 0.00000000e+00  0.00000000e+00  0.00000000e+00  0.00000000e+00]\n",
            " [ 0.00000000e+00  0.00000000e+00  0.00000000e+00  0.00000000e+00]\n",
            " [ 0.00000000e+00  0.00000000e+00  0.00000000e+00  0.00000000e+00]\n",
            " [ 0.00000000e+00  0.00000000e+00  0.00000000e+00  0.00000000e+00]\n",
            " [ 0.00000000e+00  0.00000000e+00  0.00000000e+00  0.00000000e+00]\n",
            " [ 0.00000000e+00  0.00000000e+00  0.00000000e+00  0.00000000e+00]\n",
            " [ 0.00000000e+00  0.00000000e+00  0.00000000e+00  0.00000000e+00]\n",
            " [ 0.00000000e+00  0.00000000e+00  0.00000000e+00  0.00000000e+00]\n",
            " [ 0.00000000e+00  0.00000000e+00  0.00000000e+00  0.00000000e+00]\n",
            " [ 0.00000000e+00  0.00000000e+00  0.00000000e+00  0.00000000e+00]\n",
            " [ 0.00000000e+00  0.00000000e+00  0.00000000e+00  0.00000000e+00]\n",
            " [ 0.00000000e+00  0.00000000e+00  0.00000000e+00  0.00000000e+00]\n",
            " [ 0.00000000e+00  0.00000000e+00  0.00000000e+00  0.00000000e+00]\n",
            " [ 0.00000000e+00  0.00000000e+00  0.00000000e+00  0.00000000e+00]\n",
            " [ 0.00000000e+00  0.00000000e+00  0.00000000e+00  0.00000000e+00]\n",
            " [ 0.00000000e+00  0.00000000e+00  0.00000000e+00  0.00000000e+00]\n",
            " [ 0.00000000e+00  0.00000000e+00  0.00000000e+00  0.00000000e+00]\n",
            " [ 0.00000000e+00  0.00000000e+00  0.00000000e+00  0.00000000e+00]\n",
            " [ 0.00000000e+00  0.00000000e+00  0.00000000e+00  0.00000000e+00]\n",
            " [ 0.00000000e+00  0.00000000e+00  0.00000000e+00  0.00000000e+00]\n",
            " [ 0.00000000e+00  0.00000000e+00  0.00000000e+00  0.00000000e+00]\n",
            " [ 0.00000000e+00  0.00000000e+00  0.00000000e+00  0.00000000e+00]\n",
            " [ 0.00000000e+00  0.00000000e+00  0.00000000e+00  0.00000000e+00]\n",
            " [ 0.00000000e+00  0.00000000e+00  0.00000000e+00  0.00000000e+00]\n",
            " [ 0.00000000e+00  0.00000000e+00  0.00000000e+00  0.00000000e+00]\n",
            " [ 0.00000000e+00  0.00000000e+00  0.00000000e+00  0.00000000e+00]\n",
            " [ 0.00000000e+00  0.00000000e+00  0.00000000e+00  0.00000000e+00]\n",
            " [ 0.00000000e+00  0.00000000e+00  0.00000000e+00  0.00000000e+00]\n",
            " [ 0.00000000e+00  0.00000000e+00  0.00000000e+00  0.00000000e+00]\n",
            " [ 0.00000000e+00  0.00000000e+00  0.00000000e+00  0.00000000e+00]\n",
            " [ 0.00000000e+00  0.00000000e+00  0.00000000e+00  0.00000000e+00]\n",
            " [ 0.00000000e+00  0.00000000e+00  0.00000000e+00  0.00000000e+00]\n",
            " [ 0.00000000e+00  0.00000000e+00  0.00000000e+00  0.00000000e+00]\n",
            " [ 0.00000000e+00  0.00000000e+00  0.00000000e+00  0.00000000e+00]\n",
            " [ 0.00000000e+00  0.00000000e+00  0.00000000e+00  0.00000000e+00]\n",
            " [ 0.00000000e+00  0.00000000e+00  0.00000000e+00  0.00000000e+00]\n",
            " [ 0.00000000e+00  0.00000000e+00  0.00000000e+00  0.00000000e+00]\n",
            " [ 0.00000000e+00  0.00000000e+00  0.00000000e+00  0.00000000e+00]\n",
            " [ 0.00000000e+00  0.00000000e+00  0.00000000e+00  0.00000000e+00]\n",
            " [ 0.00000000e+00  0.00000000e+00  0.00000000e+00  0.00000000e+00]\n",
            " [ 0.00000000e+00  0.00000000e+00  0.00000000e+00  0.00000000e+00]\n",
            " [ 0.00000000e+00  0.00000000e+00  0.00000000e+00  0.00000000e+00]\n",
            " [ 0.00000000e+00  0.00000000e+00  0.00000000e+00  0.00000000e+00]\n",
            " [ 0.00000000e+00  0.00000000e+00  0.00000000e+00  0.00000000e+00]\n",
            " [ 0.00000000e+00  0.00000000e+00  0.00000000e+00  0.00000000e+00]\n",
            " [ 0.00000000e+00  0.00000000e+00  0.00000000e+00  0.00000000e+00]\n",
            " [ 0.00000000e+00  0.00000000e+00  0.00000000e+00  0.00000000e+00]\n",
            " [ 0.00000000e+00  0.00000000e+00  0.00000000e+00  0.00000000e+00]\n",
            " [ 0.00000000e+00  0.00000000e+00  0.00000000e+00  0.00000000e+00]\n",
            " [ 0.00000000e+00  0.00000000e+00  0.00000000e+00  0.00000000e+00]\n",
            " [ 0.00000000e+00  0.00000000e+00  0.00000000e+00  0.00000000e+00]\n",
            " [ 0.00000000e+00  0.00000000e+00  0.00000000e+00  0.00000000e+00]\n",
            " [ 0.00000000e+00  0.00000000e+00  0.00000000e+00  0.00000000e+00]\n",
            " [ 0.00000000e+00  0.00000000e+00  0.00000000e+00  0.00000000e+00]\n",
            " [ 0.00000000e+00  0.00000000e+00  0.00000000e+00  0.00000000e+00]\n",
            " [ 0.00000000e+00  0.00000000e+00  0.00000000e+00  0.00000000e+00]\n",
            " [ 0.00000000e+00  0.00000000e+00  0.00000000e+00  0.00000000e+00]\n",
            " [ 0.00000000e+00  0.00000000e+00  0.00000000e+00  0.00000000e+00]\n",
            " [ 0.00000000e+00  0.00000000e+00  0.00000000e+00  0.00000000e+00]\n",
            " [ 0.00000000e+00  0.00000000e+00  0.00000000e+00  0.00000000e+00]\n",
            " [ 0.00000000e+00  0.00000000e+00  0.00000000e+00  0.00000000e+00]\n",
            " [ 0.00000000e+00  0.00000000e+00  0.00000000e+00  0.00000000e+00]\n",
            " [ 0.00000000e+00  0.00000000e+00  0.00000000e+00  0.00000000e+00]\n",
            " [ 0.00000000e+00  0.00000000e+00  0.00000000e+00  0.00000000e+00]\n",
            " [ 0.00000000e+00  0.00000000e+00  0.00000000e+00  0.00000000e+00]\n",
            " [ 0.00000000e+00  0.00000000e+00  0.00000000e+00  0.00000000e+00]\n",
            " [ 0.00000000e+00  0.00000000e+00  0.00000000e+00  0.00000000e+00]\n",
            " [ 0.00000000e+00  0.00000000e+00  0.00000000e+00  0.00000000e+00]\n",
            " [ 0.00000000e+00  0.00000000e+00  0.00000000e+00  0.00000000e+00]\n",
            " [ 0.00000000e+00  0.00000000e+00  0.00000000e+00  0.00000000e+00]\n",
            " [ 0.00000000e+00  0.00000000e+00  0.00000000e+00  0.00000000e+00]\n",
            " [ 0.00000000e+00  0.00000000e+00  0.00000000e+00  0.00000000e+00]\n",
            " [ 0.00000000e+00  0.00000000e+00  0.00000000e+00  0.00000000e+00]\n",
            " [ 0.00000000e+00  0.00000000e+00  0.00000000e+00  0.00000000e+00]\n",
            " [ 0.00000000e+00  0.00000000e+00  0.00000000e+00  0.00000000e+00]\n",
            " [ 0.00000000e+00  0.00000000e+00  0.00000000e+00  0.00000000e+00]\n",
            " [ 0.00000000e+00  0.00000000e+00  0.00000000e+00  0.00000000e+00]\n",
            " [ 0.00000000e+00  0.00000000e+00  0.00000000e+00  0.00000000e+00]\n",
            " [ 0.00000000e+00  0.00000000e+00  0.00000000e+00  0.00000000e+00]\n",
            " [ 0.00000000e+00  0.00000000e+00  0.00000000e+00  0.00000000e+00]\n",
            " [ 0.00000000e+00  0.00000000e+00  0.00000000e+00  0.00000000e+00]\n",
            " [ 0.00000000e+00  0.00000000e+00  0.00000000e+00  0.00000000e+00]\n",
            " [ 0.00000000e+00  0.00000000e+00  0.00000000e+00  0.00000000e+00]\n",
            " [ 0.00000000e+00  0.00000000e+00  0.00000000e+00  0.00000000e+00]\n",
            " [ 0.00000000e+00  0.00000000e+00  0.00000000e+00  0.00000000e+00]\n",
            " [ 0.00000000e+00  0.00000000e+00  0.00000000e+00  0.00000000e+00]\n",
            " [ 0.00000000e+00  0.00000000e+00  0.00000000e+00  0.00000000e+00]\n",
            " [ 0.00000000e+00  0.00000000e+00  0.00000000e+00  0.00000000e+00]\n",
            " [ 0.00000000e+00  0.00000000e+00  0.00000000e+00  0.00000000e+00]]\n"
          ]
        }
      ],
      "source": [
        "print(X[0]) #revealed many zero entires"
      ]
    },
    {
      "cell_type": "markdown",
      "source": [
        "Modifying X"
      ],
      "metadata": {
        "id": "jlbmhfuTYnUn"
      }
    },
    {
      "cell_type": "code",
      "execution_count": 7,
      "metadata": {
        "colab": {
          "base_uri": "https://localhost:8080/"
        },
        "id": "ek8-Jg9lKicG",
        "outputId": "14b1a328-2488-43bd-8931-f092084743db"
      },
      "outputs": [
        {
          "output_type": "stream",
          "name": "stdout",
          "text": [
            "[[ 2.78231806e+01 -1.77256379e-02  4.71509695e+00 -8.77777778e+00]\n",
            " [ 3.12828409e+01  1.66467043e-01  3.02062727e+00 -9.88235294e+00]\n",
            " [ 8.89669563e+00 -1.37702443e+00  4.87845109e-01 -6.43157895e+01]\n",
            " ...\n",
            " [ 3.42609492e+01  1.01293798e+00  4.56279076e+00 -1.03687500e+02]\n",
            " [ 6.20155106e+00  2.58253519e-01  3.87450781e+00 -1.13863636e+01]\n",
            " [ 1.36461232e+01  1.03797887e+00  1.37801151e+00  3.23250000e+01]]\n"
          ]
        }
      ],
      "source": [
        "X = np.where(X == 0, np.nan, X) #removing zero entires\n",
        "\n",
        "X = np.nanmean(X, axis=1) #converting to 2-d by taking mean\n",
        "\n",
        "print(X)"
      ]
    },
    {
      "cell_type": "code",
      "execution_count": 8,
      "metadata": {
        "colab": {
          "base_uri": "https://localhost:8080/"
        },
        "id": "j_C_oz18IJfi",
        "outputId": "472cea16-3f64-4a8c-d8ec-c6406168e6ce"
      },
      "outputs": [
        {
          "output_type": "stream",
          "name": "stdout",
          "text": [
            "(100000, 4)\n"
          ]
        }
      ],
      "source": [
        "print(X.shape)"
      ]
    },
    {
      "cell_type": "markdown",
      "source": [
        "Setting up Data Frame"
      ],
      "metadata": {
        "id": "H-pcvddoYz2o"
      }
    },
    {
      "cell_type": "code",
      "execution_count": 9,
      "metadata": {
        "colab": {
          "base_uri": "https://localhost:8080/"
        },
        "id": "aGG3hOHwMYl0",
        "outputId": "b73b6b87-d430-4707-f532-70ce9e3501c3"
      },
      "outputs": [
        {
          "output_type": "stream",
          "name": "stdout",
          "text": [
            "           1         2         3          4  label\n",
            "0  27.823181 -0.017726  4.715097  -8.777778    1.0\n",
            "1  31.282841  0.166467  3.020627  -9.882353    1.0\n",
            "2   8.896696 -1.377024  0.487845 -64.315789    1.0\n",
            "3  13.703112  0.666248  5.545959  78.567568    1.0\n",
            "4  15.118487 -0.388895  4.536264   5.942857    1.0\n"
          ]
        }
      ],
      "source": [
        "df = pd.DataFrame(X)\n",
        "df['label'] = y\n",
        "df.columns=['1', '2', '3', '4', 'label']\n",
        "print(df.head())"
      ]
    },
    {
      "cell_type": "markdown",
      "source": [
        "Finding signicant featuresusing ANOVA (Analysis of Variance)"
      ],
      "metadata": {
        "id": "YrWA45IEZ17j"
      }
    },
    {
      "cell_type": "code",
      "execution_count": 10,
      "metadata": {
        "colab": {
          "base_uri": "https://localhost:8080/"
        },
        "id": "V_lcD8TDN2An",
        "outputId": "0c631b71-0359-4f86-c4c6-e9f7071b1c6c"
      },
      "outputs": [
        {
          "output_type": "stream",
          "name": "stdout",
          "text": [
            "[3.26253409e+04 1.16933827e+00 5.99197943e-01 6.37913082e+02]\n",
            "[0.00000000e+000 2.79539857e-001 4.38886041e-001 2.62516039e-140]\n"
          ]
        }
      ],
      "source": [
        "from sklearn.feature_selection import f_classif\n",
        "\n",
        "f_values, p_values = f_classif(df.drop(columns='label'), df['label'])\n",
        "\n",
        "print(f_values) #high f-value tells us that the feature causes high variation\n",
        "print(p_values) #low p-value (probabilty) confirms that the feature is significant"
      ]
    },
    {
      "cell_type": "markdown",
      "source": [
        "Adding another feature, which is product of Feature 1 and Feature 2"
      ],
      "metadata": {
        "id": "B39X_MDBZ6ow"
      }
    },
    {
      "cell_type": "code",
      "execution_count": 11,
      "metadata": {
        "id": "52OUsXe3R_Gp"
      },
      "outputs": [],
      "source": [
        "fea1=df['1']\n",
        "fea4=df['4']\n",
        "fea5=fea1*fea4\n",
        "df['5']=fea5"
      ]
    },
    {
      "cell_type": "code",
      "execution_count": 12,
      "metadata": {
        "colab": {
          "base_uri": "https://localhost:8080/"
        },
        "id": "mQcqmuswSVeo",
        "outputId": "8166e663-0a9c-4810-fc12-ba8d7968a445"
      },
      "outputs": [
        {
          "output_type": "stream",
          "name": "stdout",
          "text": [
            "           1         2         3          4            5  label\n",
            "0  27.823181 -0.017726  4.715097  -8.777778  -244.225696    1.0\n",
            "1  31.282841  0.166467  3.020627  -9.882353  -309.148075    1.0\n",
            "2   8.896696 -1.377024  0.487845 -64.315789  -572.198003    1.0\n",
            "3  13.703112  0.666248  5.545959  78.567568  1076.620176    1.0\n",
            "4  15.118487 -0.388895  4.536264   5.942857    89.847009    1.0\n"
          ]
        }
      ],
      "source": [
        "df=df[['1', '2', '3', '4', '5', 'label']]\n",
        "print(df.head())"
      ]
    },
    {
      "cell_type": "markdown",
      "source": [
        "Finding significant features again"
      ],
      "metadata": {
        "id": "BXofpYqmaCA2"
      }
    },
    {
      "cell_type": "code",
      "execution_count": 13,
      "metadata": {
        "colab": {
          "base_uri": "https://localhost:8080/"
        },
        "id": "hiTNmOzsjPnD",
        "outputId": "008e3e2e-2cca-4337-8f05-aff30c407f71"
      },
      "outputs": [
        {
          "output_type": "stream",
          "name": "stdout",
          "text": [
            "[3.26253409e+04 1.16933827e+00 5.99197943e-01 6.37913082e+02\n",
            " 1.83320239e+03]\n",
            "[0.00000000e+000 2.79539857e-001 4.38886041e-001 2.62516039e-140\n",
            " 0.00000000e+000]\n"
          ]
        }
      ],
      "source": [
        "from sklearn.feature_selection import f_classif\n",
        "\n",
        "\n",
        "f_values, p_values = f_classif(df.drop(columns='label'), df['label'])\n",
        "\n",
        "\n",
        "print(f_values) #here it is revealed that the new feature is more signicant than feature 4, thus will use it\n",
        "print(p_values)"
      ]
    },
    {
      "cell_type": "markdown",
      "source": [
        "Setting X = Feature 1 and Feature 5; y = Target"
      ],
      "metadata": {
        "id": "WO4X6sVqaeTg"
      }
    },
    {
      "cell_type": "code",
      "source": [
        "X = df[['1', '5']]\n",
        "y = df['label']"
      ],
      "metadata": {
        "id": "48odDeggae9V"
      },
      "execution_count": 14,
      "outputs": []
    },
    {
      "cell_type": "markdown",
      "source": [
        "##Visualizing"
      ],
      "metadata": {
        "id": "GYtcZmbNezq9"
      }
    },
    {
      "cell_type": "code",
      "source": [
        "import seaborn as sns\n",
        "\n",
        "plt.figure(figsize=(8, 6))\n",
        "sns.scatterplot(x='1', y='5', hue='label', data=df, palette='Set1')\n",
        "plt.title('Feature1 vs Feature5 vs Target')\n",
        "plt.xlabel('Feature 1')\n",
        "plt.ylabel('Feature 5')\n",
        "plt.legend(title='Target', labels=['0', '1'])\n",
        "plt.show()\n"
      ],
      "metadata": {
        "colab": {
          "base_uri": "https://localhost:8080/",
          "height": 564
        },
        "id": "rJ1wZGE6d9T3",
        "outputId": "016e8b6c-febe-4035-de47-d0f6929cf37e"
      },
      "execution_count": 39,
      "outputs": [
        {
          "output_type": "display_data",
          "data": {
            "text/plain": [
              "<Figure size 800x600 with 1 Axes>"
            ],
            "image/png": "[encoded data removed]"
          },
          "metadata": {}
        }
      ]
    },
    {
      "cell_type": "markdown",
      "source": [
        "Splitting X and Y into Training and Testing"
      ],
      "metadata": {
        "id": "LbVzkZKCapss"
      }
    },
    {
      "cell_type": "code",
      "source": [
        "X_train, X_test, y_train, y_test = train_test_split(X, y, test_size=0.2, random_state=50)"
      ],
      "metadata": {
        "id": "dWtO5YV_a8No"
      },
      "execution_count": 26,
      "outputs": []
    },
    {
      "cell_type": "markdown",
      "source": [
        "Scaling using Standard Scaler"
      ],
      "metadata": {
        "id": "Qm_2LVhsbZ3E"
      }
    },
    {
      "cell_type": "code",
      "source": [
        "from sklearn.preprocessing import StandardScaler"
      ],
      "metadata": {
        "id": "5kgSrQoIbov8"
      },
      "execution_count": 29,
      "outputs": []
    },
    {
      "cell_type": "code",
      "source": [
        "scaler = StandardScaler()\n",
        "X_train_std = scaler.fit_transform(X_train)\n",
        "X_test_std = scaler.transform(X_test)"
      ],
      "metadata": {
        "id": "9s0OohCrbcnc"
      },
      "execution_count": 30,
      "outputs": []
    },
    {
      "cell_type": "markdown",
      "source": [
        "##Logistic Regression Model"
      ],
      "metadata": {
        "id": "l_jDpz__bTYG"
      }
    },
    {
      "cell_type": "code",
      "execution_count": 31,
      "metadata": {
        "colab": {
          "base_uri": "https://localhost:8080/"
        },
        "id": "aDvoO4ZFeeFx",
        "outputId": "775bec93-1c2e-4cb2-97fd-9d1f77f00963"
      },
      "outputs": [
        {
          "output_type": "stream",
          "name": "stdout",
          "text": [
            "Accuracy: 0.77105\n"
          ]
        }
      ],
      "source": [
        "from sklearn.linear_model import LogisticRegression\n",
        "from sklearn.metrics import accuracy_score\n",
        "\n",
        "\n",
        "#Setting up Model\n",
        "model = LogisticRegression(random_state=50)\n",
        "\n",
        "#Training Model\n",
        "model.fit(X_train_std, y_train)\n",
        "\n",
        "#Predicting\n",
        "y_pred = model.predict(X_test_std)\n",
        "\n",
        "#Accuracy\n",
        "accuracy = accuracy_score(y_test, y_pred)\n",
        "\n",
        "print(f\"Accuracy: {accuracy}\")\n"
      ]
    }
  ],
  "metadata": {
    "colab": {
      "provenance": []
    },
    "kernelspec": {
      "display_name": "Python 3",
      "name": "python3"
    },
    "language_info": {
      "name": "python"
    }
  },
  "nbformat": 4,
  "nbformat_minor": 0
}