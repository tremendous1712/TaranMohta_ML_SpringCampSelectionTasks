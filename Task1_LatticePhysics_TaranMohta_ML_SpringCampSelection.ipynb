{
  "cells": [
    {
      "cell_type": "markdown",
      "source": [
        "##Loading Dependencies"
      ],
      "metadata": {
        "id": "DbQ32_KvGIEh"
      }
    },
    {
      "cell_type": "code",
      "execution_count": null,
      "metadata": {
        "id": "b5kCjlap1KUF"
      },
      "outputs": [],
      "source": [
        "import numpy as np\n",
        "import pandas as pd\n",
        "import matplotlib.pyplot as plt\n",
        "import sklearn.datasets\n",
        "from sklearn.model_selection import train_test_split"
      ]
    },
    {
      "cell_type": "markdown",
      "source": [
        "##Setting up the Data Frames"
      ],
      "metadata": {
        "id": "UINekrBTGO1e"
      }
    },
    {
      "cell_type": "markdown",
      "source": [
        "Loading the training dataset in data frame"
      ],
      "metadata": {
        "id": "hLw6qSsmpKdv"
      }
    },
    {
      "cell_type": "code",
      "execution_count": null,
      "metadata": {
        "id": "ZjkMSHX21RmJ"
      },
      "outputs": [],
      "source": [
        "dataset = pd.read_csv('raw.csv', header=None)\n",
        "df = dataset[0].str.split(expand=True)\n",
        "df.columns = [f\"Column{i+1}\" for i in range(df.shape[1])]"
      ]
    },
    {
      "cell_type": "markdown",
      "source": [
        "Loading the test dataset in data frame"
      ],
      "metadata": {
        "id": "8pmse3QUpLau"
      }
    },
    {
      "cell_type": "code",
      "execution_count": null,
      "metadata": {
        "id": "uklVCM3w9IlP"
      },
      "outputs": [],
      "source": [
        "testset = pd.read_csv('test.csv', header=None)\n",
        "ts = testset[0].str.split(expand=True)\n",
        "ts.columns = [f\"Column{i+1}\" for i in range(ts.shape[1])]"
      ]
    },
    {
      "cell_type": "markdown",
      "source": [
        "Formatting data frame"
      ],
      "metadata": {
        "id": "EdVtOs20poH4"
      }
    },
    {
      "cell_type": "code",
      "execution_count": null,
      "metadata": {
        "id": "iQA5v4B2-dYX"
      },
      "outputs": [],
      "source": [
        "df = df.rename(columns={'Column1': 'IMF'})\n",
        "df = df.rename(columns={'Column2': 'PPPF'})\n",
        "ts = ts.rename(columns={'Column1': 'IMF'})\n",
        "ts = ts.rename(columns={'Column2': 'PPPF'})"
      ]
    },
    {
      "cell_type": "code",
      "source": [
        "print(df.head())\n",
        "print(ts.head())"
      ],
      "metadata": {
        "colab": {
          "base_uri": "https://localhost:8080/"
        },
        "id": "IM_nL1vGr7QM",
        "outputId": "61ce7816-4b4c-4de5-c91e-8e6a80709b2f"
      },
      "execution_count": null,
      "outputs": [
        {
          "output_type": "stream",
          "name": "stdout",
          "text": [
            "           IMF         PPPF      Column3      Column4      Column5  \\\n",
            "0  1.326300000  1.862085698  3.562614673  1.112359136  4.208064938   \n",
            "1  1.341490000  1.786557677  2.354765579  1.047928545  2.268973609   \n",
            "2  1.330340000  1.826187439  3.037997085  4.719516591  1.502279680   \n",
            "3  1.356530000  1.739224557  4.412803792  2.220679787  3.132737509   \n",
            "4  1.301900000  1.955828713  2.790669497  0.798176830  1.231750364   \n",
            "\n",
            "       Column6      Column7      Column8      Column9     Column10  ...  \\\n",
            "0  1.412678686  2.271030805  3.950613583  3.627031601  4.600331850  ...   \n",
            "1  4.637776935  3.793193857  2.859701836  4.361057749  3.592485464  ...   \n",
            "2  3.644736216  3.575727216  1.337685825  2.380346788  4.503771400  ...   \n",
            "3  1.327124001  4.759890260  2.882082371  3.663430380  4.531524442  ...   \n",
            "4  1.977843691  2.393930286  4.738125577  1.364743305  3.391665203  ...   \n",
            "\n",
            "      Column32     Column33     Column34     Column35     Column36  \\\n",
            "0  3.965987238  4.030998902  0.826347177  2.088521298  4.088549851   \n",
            "1  2.227999630  4.837369574  2.846538335  3.413201463  4.154079074   \n",
            "2  2.615278281  3.757999112  3.161657511  4.996056360  3.339641860   \n",
            "3  3.899025983  1.018925533  4.379307887  3.280298197  3.916281461   \n",
            "4  3.641511526  1.564076047  2.178405654  2.754888467  4.007164882   \n",
            "\n",
            "      Column37     Column38     Column39     Column40     Column41  \n",
            "0  1.184148662  2.780984954  2.865399651  4.773819801  3.539372852  \n",
            "1  4.700800400  3.597879309  4.681148171  3.215494381  3.972672293  \n",
            "2  2.548468363  4.417111447  1.375553871  4.363320036  2.988546138  \n",
            "3  3.179921660  3.769314904  0.849544243  2.508178724  0.912271552  \n",
            "4  0.702068544  4.064681844  1.370574913  0.769474760  1.395958950  \n",
            "\n",
            "[5 rows x 41 columns]\n",
            "           IMF         PPPF      Column3      Column4      Column5  \\\n",
            "0  1.315260000  1.942942171  3.461677019  4.715116084  2.970300867   \n",
            "1  1.325380000  1.875032824  4.695836519  3.290032666  2.084697876   \n",
            "2  1.314470000  1.950208204  0.704499899  1.087657732  3.221880137   \n",
            "3  1.333350000  1.861487153  1.489137135  4.173307514  4.515343112   \n",
            "4  1.306650000  2.053154388  2.269667802  1.939778195  3.864722236   \n",
            "\n",
            "       Column6      Column7      Column8      Column9     Column10  ...  \\\n",
            "0  1.643100273  4.318598714  4.730345625  1.396436452  3.412348109  ...   \n",
            "1  2.192281740  3.748708190  1.427261748  1.967644242  1.501517382  ...   \n",
            "2  3.732234151  2.193904042  1.087209915  2.807282235  4.151049895  ...   \n",
            "3  2.418054169  1.374868386  1.279875533  2.814852951  1.159432240  ...   \n",
            "4  2.441916936  1.800442393  3.994054855  4.624342387  3.795093758  ...   \n",
            "\n",
            "      Column32     Column33     Column34     Column35     Column36  \\\n",
            "0  3.628160061  2.331851774  4.938356897  0.822898517  1.720185741   \n",
            "1  1.550515235  2.861482978  1.589055489  1.289047985  3.672205942   \n",
            "2  2.548933046  3.724918686  1.099994331  4.636085751  1.663077934   \n",
            "3  3.250012358  4.938156714  1.781192938  2.384470643  1.850244926   \n",
            "4  3.894062638  2.790671229  1.649335615  0.777677854  1.943275673   \n",
            "\n",
            "      Column37     Column38     Column39     Column40     Column41  \n",
            "0  0.929270765  3.467537323  3.723372125  1.285835260  4.705695907  \n",
            "1  4.137200580  4.721755292  3.431719315  4.975995653  3.849410034  \n",
            "2  2.935144290  0.809358265  4.118608487  2.462369570  3.533540913  \n",
            "3  2.847487668  4.538737645  3.427749131  4.357428674  2.756765957  \n",
            "4  1.407025282  0.890124737  3.535505606  0.919267492  3.109841987  \n",
            "\n",
            "[5 rows x 41 columns]\n"
          ]
        }
      ]
    },
    {
      "cell_type": "markdown",
      "source": [
        "##Assigning Features to X and Targets to Y"
      ],
      "metadata": {
        "id": "2BDC4J-cqQCw"
      }
    },
    {
      "cell_type": "code",
      "execution_count": null,
      "metadata": {
        "id": "dey77yXXLg9L"
      },
      "outputs": [],
      "source": [
        "X_train = df.drop(columns=['IMF','PPPF'], axis=1)\n",
        "Y_train = df[['IMF','PPPF']]\n",
        "X_test=ts.drop(columns=['IMF','PPPF'], axis=1)\n",
        "Y_test=ts[['IMF','PPPF']]"
      ]
    },
    {
      "cell_type": "code",
      "source": [
        "from google.colab import drive\n",
        "drive.mount('/content/drive')"
      ],
      "metadata": {
        "id": "RtCcV2kKHXCE"
      },
      "execution_count": null,
      "outputs": []
    },
    {
      "cell_type": "markdown",
      "source": [
        "Coverting the data to numeric (was being read as object)"
      ],
      "metadata": {
        "id": "shdcMOALqbEb"
      }
    },
    {
      "cell_type": "code",
      "execution_count": null,
      "metadata": {
        "id": "ckxIRnP-zIyn"
      },
      "outputs": [],
      "source": [
        "X_train = X_train.apply(pd.to_numeric, errors='coerce')\n",
        "Y_train = Y_train.apply(pd.to_numeric, errors='coerce')\n",
        "X_test = X_test.apply(pd.to_numeric, errors='coerce')\n",
        "Y_test = Y_test.apply(pd.to_numeric, errors='coerce')"
      ]
    },
    {
      "cell_type": "markdown",
      "source": [
        "Scaling the data using StandardScaler from sklearn"
      ],
      "metadata": {
        "id": "_7Teq_EjrC8x"
      }
    },
    {
      "cell_type": "code",
      "execution_count": null,
      "metadata": {
        "id": "BWtVlXCH5gn9"
      },
      "outputs": [],
      "source": [
        "from sklearn.preprocessing import StandardScaler"
      ]
    },
    {
      "cell_type": "code",
      "execution_count": null,
      "metadata": {
        "id": "O-Xz6PDv7OF9"
      },
      "outputs": [],
      "source": [
        "scaler = StandardScaler()\n",
        "\n",
        "X_train = scaler.fit_transform(X_train)\n",
        "\n",
        "X_test = scaler.transform(X_test)"
      ]
    },
    {
      "cell_type": "markdown",
      "source": [
        "Preparing Y for Multi-Output Learning"
      ],
      "metadata": {
        "id": "KDs_Rvq0siVd"
      }
    },
    {
      "cell_type": "code",
      "execution_count": null,
      "metadata": {
        "id": "LHpBJ6Fg5-0A"
      },
      "outputs": [],
      "source": [
        "Y_train = {\n",
        "    'IMF': Y_train['IMF'].to_numpy().reshape(-1, 1),\n",
        "    'PPPF': Y_train['PPPF'].to_numpy().reshape(-1, 1)\n",
        "}\n",
        "\n",
        "Y_test = {\n",
        "    'IMF': Y_test['IMF'].to_numpy().reshape(-1, 1),\n",
        "    'PPPF': Y_test['PPPF'].to_numpy().reshape(-1, 1)\n",
        "}"
      ]
    },
    {
      "cell_type": "markdown",
      "source": [
        "##Hyperparamter Tuning using Optuna\n",
        "\n",
        "Hyperparameter tuning is essential because it helps improve the performance and accuracy of models by selecting the optimal settings for various parameters.\n",
        "\n",
        "Optuna is an open-source framework for hyperparameter optimization, designed to automate the process of finding the best hyperparameters for machine learning models."
      ],
      "metadata": {
        "id": "LRpT2tQ1tfxU"
      }
    },
    {
      "cell_type": "code",
      "execution_count": null,
      "metadata": {
        "colab": {
          "base_uri": "https://localhost:8080/"
        },
        "id": "QMww2EtfdNDs",
        "outputId": "cc298274-1aa4-4228-a765-6544d41d79d6"
      },
      "outputs": [
        {
          "output_type": "stream",
          "name": "stdout",
          "text": [
            "Requirement already satisfied: optuna in /usr/local/lib/python3.11/dist-packages (4.2.0)\n",
            "Requirement already satisfied: alembic>=1.5.0 in /usr/local/lib/python3.11/dist-packages (from optuna) (1.14.1)\n",
            "Requirement already satisfied: colorlog in /usr/local/lib/python3.11/dist-packages (from optuna) (6.9.0)\n",
            "Requirement already satisfied: numpy in /usr/local/lib/python3.11/dist-packages (from optuna) (1.26.4)\n",
            "Requirement already satisfied: packaging>=20.0 in /usr/local/lib/python3.11/dist-packages (from optuna) (24.2)\n",
            "Requirement already satisfied: sqlalchemy>=1.4.2 in /usr/local/lib/python3.11/dist-packages (from optuna) (2.0.37)\n",
            "Requirement already satisfied: tqdm in /usr/local/lib/python3.11/dist-packages (from optuna) (4.67.1)\n",
            "Requirement already satisfied: PyYAML in /usr/local/lib/python3.11/dist-packages (from optuna) (6.0.2)\n",
            "Requirement already satisfied: Mako in /usr/local/lib/python3.11/dist-packages (from alembic>=1.5.0->optuna) (1.3.8)\n",
            "Requirement already satisfied: typing-extensions>=4 in /usr/local/lib/python3.11/dist-packages (from alembic>=1.5.0->optuna) (4.12.2)\n",
            "Requirement already satisfied: greenlet!=0.4.17 in /usr/local/lib/python3.11/dist-packages (from sqlalchemy>=1.4.2->optuna) (3.1.1)\n",
            "Requirement already satisfied: MarkupSafe>=0.9.2 in /usr/local/lib/python3.11/dist-packages (from Mako->alembic>=1.5.0->optuna) (3.0.2)\n"
          ]
        }
      ],
      "source": [
        "!pip install optuna"
      ]
    },
    {
      "cell_type": "code",
      "execution_count": null,
      "metadata": {
        "colab": {
          "base_uri": "https://localhost:8080/"
        },
        "id": "4pp4hNNkwQm8",
        "outputId": "b4aca7ac-ab65-4d5a-8408-3054aebde1fb"
      },
      "outputs": [
        {
          "output_type": "stream",
          "name": "stderr",
          "text": [
            "[I 2025-01-27 13:16:54,587] A new study created in memory with name: no-name-c0b2629d-ab4b-4e4d-8956-14804bcc5e49\n",
            "[I 2025-01-27 13:17:17,085] Trial 0 finished with value: 0.01987912505865097 and parameters: {'num_neurons_1': 66, 'num_neurons_2': 137, 'alpha_leakyrelu': 0.002717612414215528, 'learningrate': 0.00011847944267288263}. Best is trial 0 with value: 0.01987912505865097.\n",
            "[I 2025-01-27 13:17:37,544] Trial 1 finished with value: 0.020603425800800323 and parameters: {'num_neurons_1': 114, 'num_neurons_2': 171, 'alpha_leakyrelu': 0.00029395278223290035, 'learningrate': 8.52695981142433e-05}. Best is trial 0 with value: 0.01987912505865097.\n",
            "[I 2025-01-27 13:17:53,898] Trial 2 finished with value: 0.09100493788719177 and parameters: {'num_neurons_1': 33, 'num_neurons_2': 178, 'alpha_leakyrelu': 0.0007546203864571636, 'learningrate': 1.8719345088285616e-05}. Best is trial 0 with value: 0.01987912505865097.\n",
            "[I 2025-01-27 13:18:18,206] Trial 3 finished with value: 0.004709638189524412 and parameters: {'num_neurons_1': 82, 'num_neurons_2': 168, 'alpha_leakyrelu': 0.0007992743979718354, 'learningrate': 0.005164338011010219}. Best is trial 3 with value: 0.004709638189524412.\n",
            "[I 2025-01-27 13:18:37,752] Trial 4 finished with value: 0.004008446354418993 and parameters: {'num_neurons_1': 76, 'num_neurons_2': 224, 'alpha_leakyrelu': 0.0014797887984232916, 'learningrate': 0.004796079832398831}. Best is trial 4 with value: 0.004008446354418993.\n",
            "[I 2025-01-27 13:19:00,151] Trial 5 finished with value: 0.05319871008396149 and parameters: {'num_neurons_1': 50, 'num_neurons_2': 252, 'alpha_leakyrelu': 0.03910393058615007, 'learningrate': 2.9889473368693478e-05}. Best is trial 4 with value: 0.004008446354418993.\n",
            "[I 2025-01-27 13:19:24,109] Trial 6 finished with value: 0.004056574776768684 and parameters: {'num_neurons_1': 124, 'num_neurons_2': 148, 'alpha_leakyrelu': 0.019785490152024895, 'learningrate': 0.005853936499489422}. Best is trial 4 with value: 0.004008446354418993.\n",
            "[I 2025-01-27 13:19:44,779] Trial 7 finished with value: 0.004675774369388819 and parameters: {'num_neurons_1': 123, 'num_neurons_2': 156, 'alpha_leakyrelu': 0.09312581049199951, 'learningrate': 0.0017515355194026422}. Best is trial 4 with value: 0.004008446354418993.\n",
            "[I 2025-01-27 13:20:03,504] Trial 8 finished with value: 0.013573541305959225 and parameters: {'num_neurons_1': 104, 'num_neurons_2': 205, 'alpha_leakyrelu': 0.02436432033988206, 'learningrate': 0.0001385975192985155}. Best is trial 4 with value: 0.004008446354418993.\n",
            "[I 2025-01-27 13:20:24,051] Trial 9 finished with value: 0.004295526072382927 and parameters: {'num_neurons_1': 118, 'num_neurons_2': 249, 'alpha_leakyrelu': 0.00017770690873991694, 'learningrate': 0.0014257056449841362}. Best is trial 4 with value: 0.004008446354418993.\n",
            "[I 2025-01-27 13:20:40,734] Trial 10 finished with value: 0.007094410248100758 and parameters: {'num_neurons_1': 89, 'num_neurons_2': 218, 'alpha_leakyrelu': 0.004825282743068969, 'learningrate': 0.0006485973066618324}. Best is trial 4 with value: 0.004008446354418993.\n",
            "[I 2025-01-27 13:20:58,741] Trial 11 finished with value: 0.0040654586628079414 and parameters: {'num_neurons_1': 67, 'num_neurons_2': 221, 'alpha_leakyrelu': 0.006052601192248785, 'learningrate': 0.007979288805097415}. Best is trial 4 with value: 0.004008446354418993.\n",
            "[I 2025-01-27 13:21:16,827] Trial 12 finished with value: 0.006456013303250074 and parameters: {'num_neurons_1': 96, 'num_neurons_2': 130, 'alpha_leakyrelu': 0.011139281622837859, 'learningrate': 0.002647634981116558}. Best is trial 4 with value: 0.004008446354418993.\n",
            "[I 2025-01-27 13:21:33,921] Trial 13 finished with value: 0.004707738757133484 and parameters: {'num_neurons_1': 70, 'num_neurons_2': 195, 'alpha_leakyrelu': 0.0012676391088766014, 'learningrate': 0.009836107295515865}. Best is trial 4 with value: 0.004008446354418993.\n",
            "[I 2025-01-27 13:21:49,102] Trial 14 finished with value: 0.006252668332308531 and parameters: {'num_neurons_1': 51, 'num_neurons_2': 228, 'alpha_leakyrelu': 0.01422846277085164, 'learningrate': 0.0005693050277351793}. Best is trial 4 with value: 0.004008446354418993.\n",
            "[I 2025-01-27 13:22:10,238] Trial 15 finished with value: 0.004554620012640953 and parameters: {'num_neurons_1': 103, 'num_neurons_2': 144, 'alpha_leakyrelu': 0.0022029114763451006, 'learningrate': 0.003550055342747311}. Best is trial 4 with value: 0.004008446354418993.\n",
            "[I 2025-01-27 13:22:30,392] Trial 16 finished with value: 0.005693148821592331 and parameters: {'num_neurons_1': 79, 'num_neurons_2': 238, 'alpha_leakyrelu': 0.0976640467383437, 'learningrate': 0.0009238133331869268}. Best is trial 4 with value: 0.004008446354418993.\n",
            "[I 2025-01-27 13:22:46,404] Trial 17 finished with value: 0.004300912842154503 and parameters: {'num_neurons_1': 54, 'num_neurons_2': 190, 'alpha_leakyrelu': 0.00038984813254591704, 'learningrate': 0.0038573541490403078}. Best is trial 4 with value: 0.004008446354418993.\n",
            "[I 2025-01-27 13:23:07,899] Trial 18 finished with value: 0.007933431304991245 and parameters: {'num_neurons_1': 105, 'num_neurons_2': 208, 'alpha_leakyrelu': 0.03825629320422221, 'learningrate': 0.0002822217649127349}. Best is trial 4 with value: 0.004008446354418993.\n",
            "[I 2025-01-27 13:23:24,661] Trial 19 finished with value: 0.0050445119850337505 and parameters: {'num_neurons_1': 89, 'num_neurons_2': 188, 'alpha_leakyrelu': 0.008039435400729175, 'learningrate': 0.002037924846637012}. Best is trial 4 with value: 0.004008446354418993.\n",
            "[I 2025-01-27 13:23:44,137] Trial 20 finished with value: 0.007179373875260353 and parameters: {'num_neurons_1': 128, 'num_neurons_2': 153, 'alpha_leakyrelu': 0.00011709539365983703, 'learningrate': 0.0003551750387441921}. Best is trial 4 with value: 0.004008446354418993.\n",
            "[I 2025-01-27 13:24:01,785] Trial 21 finished with value: 0.0034841259475797415 and parameters: {'num_neurons_1': 69, 'num_neurons_2': 225, 'alpha_leakyrelu': 0.005240804515293498, 'learningrate': 0.009919849853637546}. Best is trial 21 with value: 0.0034841259475797415.\n",
            "[I 2025-01-27 13:24:18,660] Trial 22 finished with value: 0.003784183645620942 and parameters: {'num_neurons_1': 78, 'num_neurons_2': 230, 'alpha_leakyrelu': 0.0016583022328362168, 'learningrate': 0.006020880789210016}. Best is trial 21 with value: 0.0034841259475797415.\n",
            "[I 2025-01-27 13:24:35,038] Trial 23 finished with value: 0.004094408359378576 and parameters: {'num_neurons_1': 75, 'num_neurons_2': 236, 'alpha_leakyrelu': 0.0017407658549621076, 'learningrate': 0.008873363379997537}. Best is trial 21 with value: 0.0034841259475797415.\n",
            "[I 2025-01-27 13:24:50,514] Trial 24 finished with value: 0.004893406759947538 and parameters: {'num_neurons_1': 59, 'num_neurons_2': 238, 'alpha_leakyrelu': 0.00393627296747457, 'learningrate': 0.003994133676744831}. Best is trial 21 with value: 0.0034841259475797415.\n"
          ]
        },
        {
          "output_type": "stream",
          "name": "stdout",
          "text": [
            "Best Hyperparameters: {'num_neurons_1': 69, 'num_neurons_2': 225, 'alpha_leakyrelu': 0.005240804515293498, 'learningrate': 0.009919849853637546}\n"
          ]
        }
      ],
      "source": [
        "import tensorflow as tf\n",
        "from tensorflow import keras\n",
        "import optuna\n",
        "\n",
        "\n",
        "def mymodel(trial):\n",
        "\n",
        "    n_neurons_1 = trial.suggest_int('num_neurons_1', 32, 128)\n",
        "    n_neurons_2 = trial.suggest_int('num_neurons_2', 128, 256)\n",
        "    alpha_leakyrelu = trial.suggest_float('alpha_leakyrelu', 1e-4, 1e-1, log=True)\n",
        "    learningrate = trial.suggest_float('learningrate', 1e-5, 1e-2, log=True)\n",
        "\n",
        "#Defining layers\n",
        "    input_layer = keras.Input(shape=(39,)) #39 features\n",
        "    shared_layer_1 = keras.layers.Dense(n_neurons_1, activation='relu')(input_layer)\n",
        "    shared_layer_2 = keras.layers.Dense(\n",
        "        n_neurons_2,\n",
        "        activation=keras.layers.LeakyReLU(negative_slope=alpha_leakyrelu)\n",
        "    )(shared_layer_1)\n",
        "    #Chose this activation upon researching more on the dataset and the linked introductory paper\n",
        "\n",
        "\n",
        "    IMF = keras.layers.Dense(1, activation='linear', name='IMF')(shared_layer_2)\n",
        "    PPPF = keras.layers.Dense(1, activation='linear', name='PPPF')(shared_layer_2)\n",
        "\n",
        "\n",
        "    model = keras.Model(inputs=input_layer, outputs=[IMF, PPPF])\n",
        "\n",
        "\n",
        "    model.compile(\n",
        "        optimizer=keras.optimizers.Adam(learning_rate=learningrate),\n",
        "        loss={'IMF': 'mse', 'PPPF': 'mse'}, #Setting mean sqaure error as loss\n",
        "\n",
        "        metrics={'IMF': ['mae'], 'PPPF': ['mae']} #Setting mean absolute error as metric\n",
        "    )\n",
        "\n",
        "    return model\n",
        "\n",
        "#defining function for Optuna\n",
        "def hyperparam(trial):\n",
        "\n",
        "    model = mymodel(trial)\n",
        "\n",
        "#Training model\n",
        "    history = model.fit(\n",
        "        X_train,  #Input features\n",
        "        Y_train,      #Targets\n",
        "        validation_split=0.2,  #20% validation split\n",
        "        epochs=10,\n",
        "        batch_size=32,\n",
        "        verbose=0\n",
        "    )\n",
        "\n",
        "\n",
        "    val_loss = history.history['val_loss'][-1]  #Last epoch's validation loss\n",
        "    return val_loss\n",
        "\n",
        "\n",
        "study = optuna.create_study(direction='minimize')  #Minimize validation loss\n",
        "study.optimize(hyperparam, n_trials=25)\n",
        "\n",
        "\n",
        "print(\"Best Hyperparameters:\", study.best_params)\n",
        "\n",
        "best_model = mymodel(study.best_trial)\n"
      ]
    },
    {
      "cell_type": "markdown",
      "source": [
        "##Training Best Model"
      ],
      "metadata": {
        "id": "5FS0gkiC2YhR"
      }
    },
    {
      "cell_type": "code",
      "source": [
        "best_model.fit(\n",
        "    X_train,\n",
        "    Y_train,\n",
        "    validation_split=0.2,\n",
        "    epochs=50,\n",
        "    batch_size=32,\n",
        "    verbose=1\n",
        ")\n",
        "#on tuning results were:\n",
        "#Best Hyperparameters: {'num_neurons_1': 69, 'num_neurons_2': 225, 'alpha_leakyrelu': 0.005240804515293498, 'learningrate': 0.009919849853637546}"
      ],
      "metadata": {
        "colab": {
          "base_uri": "https://localhost:8080/"
        },
        "id": "wOJXUNmMz3Jo",
        "outputId": "a386070f-efae-4098-8c5a-b004784882f0"
      },
      "execution_count": null,
      "outputs": [
        {
          "output_type": "stream",
          "name": "stdout",
          "text": [
            "Epoch 1/50\n",
            "\u001b[1m600/600\u001b[0m \u001b[32m━━━━━━━━━━━━━━━━━━━━\u001b[0m\u001b[37m\u001b[0m \u001b[1m4s\u001b[0m 3ms/step - IMF_loss: 0.0636 - IMF_mae: 0.1522 - PPPF_loss: 0.1074 - PPPF_mae: 0.2053 - loss: 0.1710 - val_IMF_loss: 0.0030 - val_IMF_mae: 0.0458 - val_PPPF_loss: 0.0087 - val_PPPF_mae: 0.0744 - val_loss: 0.0117\n",
            "Epoch 2/50\n",
            "\u001b[1m600/600\u001b[0m \u001b[32m━━━━━━━━━━━━━━━━━━━━\u001b[0m\u001b[37m\u001b[0m \u001b[1m3s\u001b[0m 3ms/step - IMF_loss: 0.0016 - IMF_mae: 0.0322 - PPPF_loss: 0.0067 - PPPF_mae: 0.0647 - loss: 0.0083 - val_IMF_loss: 4.8035e-04 - val_IMF_mae: 0.0170 - val_PPPF_loss: 0.0058 - val_PPPF_mae: 0.0601 - val_loss: 0.0063\n",
            "Epoch 3/50\n",
            "\u001b[1m600/600\u001b[0m \u001b[32m━━━━━━━━━━━━━━━━━━━━\u001b[0m\u001b[37m\u001b[0m \u001b[1m2s\u001b[0m 3ms/step - IMF_loss: 8.6664e-04 - IMF_mae: 0.0231 - PPPF_loss: 0.0058 - PPPF_mae: 0.0602 - loss: 0.0067 - val_IMF_loss: 3.6332e-04 - val_IMF_mae: 0.0152 - val_PPPF_loss: 0.0053 - val_PPPF_mae: 0.0572 - val_loss: 0.0057\n",
            "Epoch 4/50\n",
            "\u001b[1m600/600\u001b[0m \u001b[32m━━━━━━━━━━━━━━━━━━━━\u001b[0m\u001b[37m\u001b[0m \u001b[1m2s\u001b[0m 2ms/step - IMF_loss: 5.9578e-04 - IMF_mae: 0.0192 - PPPF_loss: 0.0052 - PPPF_mae: 0.0566 - loss: 0.0058 - val_IMF_loss: 2.4870e-04 - val_IMF_mae: 0.0124 - val_PPPF_loss: 0.0051 - val_PPPF_mae: 0.0563 - val_loss: 0.0053\n",
            "Epoch 5/50\n",
            "\u001b[1m600/600\u001b[0m \u001b[32m━━━━━━━━━━━━━━━━━━━━\u001b[0m\u001b[37m\u001b[0m \u001b[1m1s\u001b[0m 2ms/step - IMF_loss: 5.7426e-04 - IMF_mae: 0.0187 - PPPF_loss: 0.0050 - PPPF_mae: 0.0559 - loss: 0.0056 - val_IMF_loss: 2.2907e-04 - val_IMF_mae: 0.0120 - val_PPPF_loss: 0.0047 - val_PPPF_mae: 0.0538 - val_loss: 0.0050\n",
            "Epoch 6/50\n",
            "\u001b[1m600/600\u001b[0m \u001b[32m━━━━━━━━━━━━━━━━━━━━\u001b[0m\u001b[37m\u001b[0m \u001b[1m1s\u001b[0m 2ms/step - IMF_loss: 4.3740e-04 - IMF_mae: 0.0166 - PPPF_loss: 0.0049 - PPPF_mae: 0.0548 - loss: 0.0053 - val_IMF_loss: 1.4452e-04 - val_IMF_mae: 0.0091 - val_PPPF_loss: 0.0049 - val_PPPF_mae: 0.0546 - val_loss: 0.0050\n",
            "Epoch 7/50\n",
            "\u001b[1m600/600\u001b[0m \u001b[32m━━━━━━━━━━━━━━━━━━━━\u001b[0m\u001b[37m\u001b[0m \u001b[1m2s\u001b[0m 2ms/step - IMF_loss: 3.2342e-04 - IMF_mae: 0.0141 - PPPF_loss: 0.0047 - PPPF_mae: 0.0535 - loss: 0.0050 - val_IMF_loss: 3.4198e-04 - val_IMF_mae: 0.0147 - val_PPPF_loss: 0.0049 - val_PPPF_mae: 0.0556 - val_loss: 0.0053\n",
            "Epoch 8/50\n",
            "\u001b[1m600/600\u001b[0m \u001b[32m━━━━━━━━━━━━━━━━━━━━\u001b[0m\u001b[37m\u001b[0m \u001b[1m2s\u001b[0m 3ms/step - IMF_loss: 3.2750e-04 - IMF_mae: 0.0143 - PPPF_loss: 0.0042 - PPPF_mae: 0.0508 - loss: 0.0045 - val_IMF_loss: 2.0221e-04 - val_IMF_mae: 0.0115 - val_PPPF_loss: 0.0040 - val_PPPF_mae: 0.0492 - val_loss: 0.0042\n",
            "Epoch 9/50\n",
            "\u001b[1m600/600\u001b[0m \u001b[32m━━━━━━━━━━━━━━━━━━━━\u001b[0m\u001b[37m\u001b[0m \u001b[1m2s\u001b[0m 4ms/step - IMF_loss: 2.2259e-04 - IMF_mae: 0.0117 - PPPF_loss: 0.0040 - PPPF_mae: 0.0494 - loss: 0.0042 - val_IMF_loss: 2.0152e-04 - val_IMF_mae: 0.0115 - val_PPPF_loss: 0.0041 - val_PPPF_mae: 0.0493 - val_loss: 0.0043\n",
            "Epoch 10/50\n",
            "\u001b[1m600/600\u001b[0m \u001b[32m━━━━━━━━━━━━━━━━━━━━\u001b[0m\u001b[37m\u001b[0m \u001b[1m2s\u001b[0m 2ms/step - IMF_loss: 1.9116e-04 - IMF_mae: 0.0107 - PPPF_loss: 0.0035 - PPPF_mae: 0.0464 - loss: 0.0037 - val_IMF_loss: 2.3518e-04 - val_IMF_mae: 0.0130 - val_PPPF_loss: 0.0035 - val_PPPF_mae: 0.0458 - val_loss: 0.0038\n",
            "Epoch 11/50\n",
            "\u001b[1m600/600\u001b[0m \u001b[32m━━━━━━━━━━━━━━━━━━━━\u001b[0m\u001b[37m\u001b[0m \u001b[1m1s\u001b[0m 2ms/step - IMF_loss: 1.2492e-04 - IMF_mae: 0.0087 - PPPF_loss: 0.0032 - PPPF_mae: 0.0440 - loss: 0.0033 - val_IMF_loss: 1.3725e-04 - val_IMF_mae: 0.0090 - val_PPPF_loss: 0.0036 - val_PPPF_mae: 0.0469 - val_loss: 0.0037\n",
            "Epoch 12/50\n",
            "\u001b[1m600/600\u001b[0m \u001b[32m━━━━━━━━━━━━━━━━━━━━\u001b[0m\u001b[37m\u001b[0m \u001b[1m1s\u001b[0m 2ms/step - IMF_loss: 7.8859e-05 - IMF_mae: 0.0068 - PPPF_loss: 0.0028 - PPPF_mae: 0.0414 - loss: 0.0029 - val_IMF_loss: 6.6759e-05 - val_IMF_mae: 0.0066 - val_PPPF_loss: 0.0032 - val_PPPF_mae: 0.0443 - val_loss: 0.0033\n",
            "Epoch 13/50\n",
            "\u001b[1m600/600\u001b[0m \u001b[32m━━━━━━━━━━━━━━━━━━━━\u001b[0m\u001b[37m\u001b[0m \u001b[1m3s\u001b[0m 2ms/step - IMF_loss: 5.9709e-05 - IMF_mae: 0.0059 - PPPF_loss: 0.0028 - PPPF_mae: 0.0416 - loss: 0.0029 - val_IMF_loss: 8.4142e-05 - val_IMF_mae: 0.0072 - val_PPPF_loss: 0.0056 - val_PPPF_mae: 0.0607 - val_loss: 0.0057\n",
            "Epoch 14/50\n",
            "\u001b[1m600/600\u001b[0m \u001b[32m━━━━━━━━━━━━━━━━━━━━\u001b[0m\u001b[37m\u001b[0m \u001b[1m1s\u001b[0m 2ms/step - IMF_loss: 4.6121e-05 - IMF_mae: 0.0051 - PPPF_loss: 0.0027 - PPPF_mae: 0.0400 - loss: 0.0027 - val_IMF_loss: 1.0117e-04 - val_IMF_mae: 0.0057 - val_PPPF_loss: 0.0030 - val_PPPF_mae: 0.0432 - val_loss: 0.0031\n",
            "Epoch 15/50\n",
            "\u001b[1m600/600\u001b[0m \u001b[32m━━━━━━━━━━━━━━━━━━━━\u001b[0m\u001b[37m\u001b[0m \u001b[1m1s\u001b[0m 2ms/step - IMF_loss: 8.0009e-05 - IMF_mae: 0.0059 - PPPF_loss: 0.0025 - PPPF_mae: 0.0384 - loss: 0.0025 - val_IMF_loss: 6.4905e-05 - val_IMF_mae: 0.0058 - val_PPPF_loss: 0.0024 - val_PPPF_mae: 0.0375 - val_loss: 0.0024\n",
            "Epoch 16/50\n",
            "\u001b[1m600/600\u001b[0m \u001b[32m━━━━━━━━━━━━━━━━━━━━\u001b[0m\u001b[37m\u001b[0m \u001b[1m3s\u001b[0m 4ms/step - IMF_loss: 6.5233e-05 - IMF_mae: 0.0057 - PPPF_loss: 0.0022 - PPPF_mae: 0.0362 - loss: 0.0023 - val_IMF_loss: 1.1736e-04 - val_IMF_mae: 0.0092 - val_PPPF_loss: 0.0022 - val_PPPF_mae: 0.0360 - val_loss: 0.0023\n",
            "Epoch 17/50\n",
            "\u001b[1m600/600\u001b[0m \u001b[32m━━━━━━━━━━━━━━━━━━━━\u001b[0m\u001b[37m\u001b[0m \u001b[1m1s\u001b[0m 2ms/step - IMF_loss: 4.8473e-05 - IMF_mae: 0.0051 - PPPF_loss: 0.0020 - PPPF_mae: 0.0340 - loss: 0.0020 - val_IMF_loss: 4.0890e-05 - val_IMF_mae: 0.0048 - val_PPPF_loss: 0.0022 - val_PPPF_mae: 0.0360 - val_loss: 0.0022\n",
            "Epoch 18/50\n",
            "\u001b[1m600/600\u001b[0m \u001b[32m━━━━━━━━━━━━━━━━━━━━\u001b[0m\u001b[37m\u001b[0m \u001b[1m3s\u001b[0m 2ms/step - IMF_loss: 4.9471e-05 - IMF_mae: 0.0050 - PPPF_loss: 0.0020 - PPPF_mae: 0.0350 - loss: 0.0021 - val_IMF_loss: 1.7262e-04 - val_IMF_mae: 0.0099 - val_PPPF_loss: 0.0022 - val_PPPF_mae: 0.0363 - val_loss: 0.0024\n",
            "Epoch 19/50\n",
            "\u001b[1m600/600\u001b[0m \u001b[32m━━━━━━━━━━━━━━━━━━━━\u001b[0m\u001b[37m\u001b[0m \u001b[1m3s\u001b[0m 2ms/step - IMF_loss: 4.6336e-05 - IMF_mae: 0.0048 - PPPF_loss: 0.0019 - PPPF_mae: 0.0338 - loss: 0.0020 - val_IMF_loss: 3.8946e-05 - val_IMF_mae: 0.0039 - val_PPPF_loss: 0.0018 - val_PPPF_mae: 0.0326 - val_loss: 0.0019\n",
            "Epoch 20/50\n",
            "\u001b[1m600/600\u001b[0m \u001b[32m━━━━━━━━━━━━━━━━━━━━\u001b[0m\u001b[37m\u001b[0m \u001b[1m2s\u001b[0m 2ms/step - IMF_loss: 6.5935e-05 - IMF_mae: 0.0052 - PPPF_loss: 0.0019 - PPPF_mae: 0.0333 - loss: 0.0020 - val_IMF_loss: 6.7729e-05 - val_IMF_mae: 0.0061 - val_PPPF_loss: 0.0027 - val_PPPF_mae: 0.0378 - val_loss: 0.0027\n",
            "Epoch 21/50\n",
            "\u001b[1m600/600\u001b[0m \u001b[32m━━━━━━━━━━━━━━━━━━━━\u001b[0m\u001b[37m\u001b[0m \u001b[1m2s\u001b[0m 3ms/step - IMF_loss: 3.9838e-05 - IMF_mae: 0.0047 - PPPF_loss: 0.0020 - PPPF_mae: 0.0338 - loss: 0.0020 - val_IMF_loss: 2.7694e-05 - val_IMF_mae: 0.0035 - val_PPPF_loss: 0.0016 - val_PPPF_mae: 0.0307 - val_loss: 0.0017\n",
            "Epoch 22/50\n",
            "\u001b[1m600/600\u001b[0m \u001b[32m━━━━━━━━━━━━━━━━━━━━\u001b[0m\u001b[37m\u001b[0m \u001b[1m3s\u001b[0m 3ms/step - IMF_loss: 3.3313e-05 - IMF_mae: 0.0040 - PPPF_loss: 0.0015 - PPPF_mae: 0.0292 - loss: 0.0015 - val_IMF_loss: 1.4886e-05 - val_IMF_mae: 0.0030 - val_PPPF_loss: 0.0016 - val_PPPF_mae: 0.0306 - val_loss: 0.0017\n",
            "Epoch 23/50\n",
            "\u001b[1m600/600\u001b[0m \u001b[32m━━━━━━━━━━━━━━━━━━━━\u001b[0m\u001b[37m\u001b[0m \u001b[1m2s\u001b[0m 2ms/step - IMF_loss: 3.1478e-05 - IMF_mae: 0.0039 - PPPF_loss: 0.0016 - PPPF_mae: 0.0305 - loss: 0.0016 - val_IMF_loss: 1.9937e-05 - val_IMF_mae: 0.0031 - val_PPPF_loss: 0.0015 - val_PPPF_mae: 0.0297 - val_loss: 0.0015\n",
            "Epoch 24/50\n",
            "\u001b[1m600/600\u001b[0m \u001b[32m━━━━━━━━━━━━━━━━━━━━\u001b[0m\u001b[37m\u001b[0m \u001b[1m2s\u001b[0m 3ms/step - IMF_loss: 4.7963e-05 - IMF_mae: 0.0045 - PPPF_loss: 0.0016 - PPPF_mae: 0.0308 - loss: 0.0017 - val_IMF_loss: 5.9012e-05 - val_IMF_mae: 0.0050 - val_PPPF_loss: 0.0020 - val_PPPF_mae: 0.0339 - val_loss: 0.0020\n",
            "Epoch 25/50\n",
            "\u001b[1m600/600\u001b[0m \u001b[32m━━━━━━━━━━━━━━━━━━━━\u001b[0m\u001b[37m\u001b[0m \u001b[1m1s\u001b[0m 2ms/step - IMF_loss: 3.3831e-05 - IMF_mae: 0.0042 - PPPF_loss: 0.0016 - PPPF_mae: 0.0305 - loss: 0.0016 - val_IMF_loss: 2.8255e-05 - val_IMF_mae: 0.0039 - val_PPPF_loss: 0.0020 - val_PPPF_mae: 0.0344 - val_loss: 0.0020\n",
            "Epoch 26/50\n",
            "\u001b[1m600/600\u001b[0m \u001b[32m━━━━━━━━━━━━━━━━━━━━\u001b[0m\u001b[37m\u001b[0m \u001b[1m1s\u001b[0m 2ms/step - IMF_loss: 2.6215e-05 - IMF_mae: 0.0037 - PPPF_loss: 0.0015 - PPPF_mae: 0.0299 - loss: 0.0015 - val_IMF_loss: 9.0268e-05 - val_IMF_mae: 0.0083 - val_PPPF_loss: 0.0016 - val_PPPF_mae: 0.0306 - val_loss: 0.0017\n",
            "Epoch 27/50\n",
            "\u001b[1m600/600\u001b[0m \u001b[32m━━━━━━━━━━━━━━━━━━━━\u001b[0m\u001b[37m\u001b[0m \u001b[1m2s\u001b[0m 2ms/step - IMF_loss: 6.3273e-05 - IMF_mae: 0.0055 - PPPF_loss: 0.0017 - PPPF_mae: 0.0308 - loss: 0.0017 - val_IMF_loss: 1.0655e-04 - val_IMF_mae: 0.0083 - val_PPPF_loss: 0.0016 - val_PPPF_mae: 0.0302 - val_loss: 0.0017\n",
            "Epoch 28/50\n",
            "\u001b[1m600/600\u001b[0m \u001b[32m━━━━━━━━━━━━━━━━━━━━\u001b[0m\u001b[37m\u001b[0m \u001b[1m1s\u001b[0m 2ms/step - IMF_loss: 8.4645e-05 - IMF_mae: 0.0064 - PPPF_loss: 0.0014 - PPPF_mae: 0.0289 - loss: 0.0015 - val_IMF_loss: 4.4632e-05 - val_IMF_mae: 0.0042 - val_PPPF_loss: 0.0016 - val_PPPF_mae: 0.0306 - val_loss: 0.0016\n",
            "Epoch 29/50\n",
            "\u001b[1m600/600\u001b[0m \u001b[32m━━━━━━━━━━━━━━━━━━━━\u001b[0m\u001b[37m\u001b[0m \u001b[1m2s\u001b[0m 3ms/step - IMF_loss: 5.2645e-05 - IMF_mae: 0.0046 - PPPF_loss: 0.0014 - PPPF_mae: 0.0286 - loss: 0.0015 - val_IMF_loss: 2.5436e-05 - val_IMF_mae: 0.0036 - val_PPPF_loss: 0.0015 - val_PPPF_mae: 0.0290 - val_loss: 0.0015\n",
            "Epoch 30/50\n",
            "\u001b[1m600/600\u001b[0m \u001b[32m━━━━━━━━━━━━━━━━━━━━\u001b[0m\u001b[37m\u001b[0m \u001b[1m2s\u001b[0m 3ms/step - IMF_loss: 4.0398e-05 - IMF_mae: 0.0041 - PPPF_loss: 0.0013 - PPPF_mae: 0.0279 - loss: 0.0014 - val_IMF_loss: 3.0339e-05 - val_IMF_mae: 0.0035 - val_PPPF_loss: 0.0014 - val_PPPF_mae: 0.0284 - val_loss: 0.0014\n",
            "Epoch 31/50\n",
            "\u001b[1m600/600\u001b[0m \u001b[32m━━━━━━━━━━━━━━━━━━━━\u001b[0m\u001b[37m\u001b[0m \u001b[1m2s\u001b[0m 2ms/step - IMF_loss: 1.3876e-04 - IMF_mae: 0.0055 - PPPF_loss: 0.0016 - PPPF_mae: 0.0297 - loss: 0.0017 - val_IMF_loss: 4.7101e-05 - val_IMF_mae: 0.0039 - val_PPPF_loss: 0.0017 - val_PPPF_mae: 0.0317 - val_loss: 0.0018\n",
            "Epoch 32/50\n",
            "\u001b[1m600/600\u001b[0m \u001b[32m━━━━━━━━━━━━━━━━━━━━\u001b[0m\u001b[37m\u001b[0m \u001b[1m3s\u001b[0m 2ms/step - IMF_loss: 3.5996e-05 - IMF_mae: 0.0041 - PPPF_loss: 0.0015 - PPPF_mae: 0.0300 - loss: 0.0016 - val_IMF_loss: 5.6215e-05 - val_IMF_mae: 0.0049 - val_PPPF_loss: 0.0018 - val_PPPF_mae: 0.0326 - val_loss: 0.0019\n",
            "Epoch 33/50\n",
            "\u001b[1m600/600\u001b[0m \u001b[32m━━━━━━━━━━━━━━━━━━━━\u001b[0m\u001b[37m\u001b[0m \u001b[1m3s\u001b[0m 2ms/step - IMF_loss: 4.7345e-05 - IMF_mae: 0.0044 - PPPF_loss: 0.0014 - PPPF_mae: 0.0279 - loss: 0.0014 - val_IMF_loss: 6.5637e-05 - val_IMF_mae: 0.0046 - val_PPPF_loss: 0.0016 - val_PPPF_mae: 0.0310 - val_loss: 0.0017\n",
            "Epoch 34/50\n",
            "\u001b[1m600/600\u001b[0m \u001b[32m━━━━━━━━━━━━━━━━━━━━\u001b[0m\u001b[37m\u001b[0m \u001b[1m1s\u001b[0m 2ms/step - IMF_loss: 1.0823e-04 - IMF_mae: 0.0057 - PPPF_loss: 0.0017 - PPPF_mae: 0.0311 - loss: 0.0018 - val_IMF_loss: 6.9344e-05 - val_IMF_mae: 0.0043 - val_PPPF_loss: 0.0018 - val_PPPF_mae: 0.0331 - val_loss: 0.0019\n",
            "Epoch 35/50\n",
            "\u001b[1m600/600\u001b[0m \u001b[32m━━━━━━━━━━━━━━━━━━━━\u001b[0m\u001b[37m\u001b[0m \u001b[1m4s\u001b[0m 4ms/step - IMF_loss: 5.5469e-05 - IMF_mae: 0.0052 - PPPF_loss: 0.0017 - PPPF_mae: 0.0316 - loss: 0.0018 - val_IMF_loss: 1.1411e-04 - val_IMF_mae: 0.0056 - val_PPPF_loss: 0.0020 - val_PPPF_mae: 0.0343 - val_loss: 0.0021\n",
            "Epoch 36/50\n",
            "\u001b[1m600/600\u001b[0m \u001b[32m━━━━━━━━━━━━━━━━━━━━\u001b[0m\u001b[37m\u001b[0m \u001b[1m2s\u001b[0m 3ms/step - IMF_loss: 8.7374e-05 - IMF_mae: 0.0064 - PPPF_loss: 0.0019 - PPPF_mae: 0.0334 - loss: 0.0020 - val_IMF_loss: 1.4932e-04 - val_IMF_mae: 0.0082 - val_PPPF_loss: 0.0020 - val_PPPF_mae: 0.0339 - val_loss: 0.0021\n",
            "Epoch 37/50\n",
            "\u001b[1m600/600\u001b[0m \u001b[32m━━━━━━━━━━━━━━━━━━━━\u001b[0m\u001b[37m\u001b[0m \u001b[1m2s\u001b[0m 2ms/step - IMF_loss: 9.5549e-05 - IMF_mae: 0.0065 - PPPF_loss: 0.0016 - PPPF_mae: 0.0301 - loss: 0.0017 - val_IMF_loss: 9.1110e-05 - val_IMF_mae: 0.0064 - val_PPPF_loss: 0.0016 - val_PPPF_mae: 0.0304 - val_loss: 0.0017\n",
            "Epoch 38/50\n",
            "\u001b[1m600/600\u001b[0m \u001b[32m━━━━━━━━━━━━━━━━━━━━\u001b[0m\u001b[37m\u001b[0m \u001b[1m3s\u001b[0m 2ms/step - IMF_loss: 1.6951e-04 - IMF_mae: 0.0070 - PPPF_loss: 0.0016 - PPPF_mae: 0.0308 - loss: 0.0018 - val_IMF_loss: 7.9415e-05 - val_IMF_mae: 0.0064 - val_PPPF_loss: 0.0019 - val_PPPF_mae: 0.0328 - val_loss: 0.0020\n",
            "Epoch 39/50\n",
            "\u001b[1m600/600\u001b[0m \u001b[32m━━━━━━━━━━━━━━━━━━━━\u001b[0m\u001b[37m\u001b[0m \u001b[1m1s\u001b[0m 2ms/step - IMF_loss: 5.5700e-05 - IMF_mae: 0.0049 - PPPF_loss: 0.0016 - PPPF_mae: 0.0307 - loss: 0.0017 - val_IMF_loss: 3.7877e-05 - val_IMF_mae: 0.0043 - val_PPPF_loss: 0.0017 - val_PPPF_mae: 0.0306 - val_loss: 0.0017\n",
            "Epoch 40/50\n",
            "\u001b[1m600/600\u001b[0m \u001b[32m━━━━━━━━━━━━━━━━━━━━\u001b[0m\u001b[37m\u001b[0m \u001b[1m2s\u001b[0m 2ms/step - IMF_loss: 3.1224e-05 - IMF_mae: 0.0039 - PPPF_loss: 0.0014 - PPPF_mae: 0.0278 - loss: 0.0014 - val_IMF_loss: 1.7653e-04 - val_IMF_mae: 0.0117 - val_PPPF_loss: 0.0017 - val_PPPF_mae: 0.0326 - val_loss: 0.0019\n",
            "Epoch 41/50\n",
            "\u001b[1m600/600\u001b[0m \u001b[32m━━━━━━━━━━━━━━━━━━━━\u001b[0m\u001b[37m\u001b[0m \u001b[1m3s\u001b[0m 4ms/step - IMF_loss: 5.4883e-05 - IMF_mae: 0.0049 - PPPF_loss: 0.0014 - PPPF_mae: 0.0285 - loss: 0.0015 - val_IMF_loss: 8.0046e-05 - val_IMF_mae: 0.0049 - val_PPPF_loss: 0.0018 - val_PPPF_mae: 0.0320 - val_loss: 0.0019\n",
            "Epoch 42/50\n",
            "\u001b[1m600/600\u001b[0m \u001b[32m━━━━━━━━━━━━━━━━━━━━\u001b[0m\u001b[37m\u001b[0m \u001b[1m2s\u001b[0m 3ms/step - IMF_loss: 7.0240e-05 - IMF_mae: 0.0052 - PPPF_loss: 0.0015 - PPPF_mae: 0.0295 - loss: 0.0016 - val_IMF_loss: 2.9263e-05 - val_IMF_mae: 0.0036 - val_PPPF_loss: 0.0013 - val_PPPF_mae: 0.0280 - val_loss: 0.0014\n",
            "Epoch 43/50\n",
            "\u001b[1m600/600\u001b[0m \u001b[32m━━━━━━━━━━━━━━━━━━━━\u001b[0m\u001b[37m\u001b[0m \u001b[1m2s\u001b[0m 3ms/step - IMF_loss: 2.7522e-04 - IMF_mae: 0.0074 - PPPF_loss: 0.0019 - PPPF_mae: 0.0329 - loss: 0.0022 - val_IMF_loss: 2.3697e-05 - val_IMF_mae: 0.0034 - val_PPPF_loss: 0.0016 - val_PPPF_mae: 0.0299 - val_loss: 0.0016\n",
            "Epoch 44/50\n",
            "\u001b[1m600/600\u001b[0m \u001b[32m━━━━━━━━━━━━━━━━━━━━\u001b[0m\u001b[37m\u001b[0m \u001b[1m1s\u001b[0m 2ms/step - IMF_loss: 4.2070e-05 - IMF_mae: 0.0038 - PPPF_loss: 0.0015 - PPPF_mae: 0.0288 - loss: 0.0015 - val_IMF_loss: 8.8088e-05 - val_IMF_mae: 0.0044 - val_PPPF_loss: 0.0017 - val_PPPF_mae: 0.0305 - val_loss: 0.0018\n",
            "Epoch 45/50\n",
            "\u001b[1m600/600\u001b[0m \u001b[32m━━━━━━━━━━━━━━━━━━━━\u001b[0m\u001b[37m\u001b[0m \u001b[1m3s\u001b[0m 2ms/step - IMF_loss: 8.0623e-05 - IMF_mae: 0.0050 - PPPF_loss: 0.0017 - PPPF_mae: 0.0309 - loss: 0.0018 - val_IMF_loss: 6.7609e-05 - val_IMF_mae: 0.0054 - val_PPPF_loss: 0.0022 - val_PPPF_mae: 0.0365 - val_loss: 0.0023\n",
            "Epoch 46/50\n",
            "\u001b[1m600/600\u001b[0m \u001b[32m━━━━━━━━━━━━━━━━━━━━\u001b[0m\u001b[37m\u001b[0m \u001b[1m1s\u001b[0m 2ms/step - IMF_loss: 5.5732e-05 - IMF_mae: 0.0048 - PPPF_loss: 0.0020 - PPPF_mae: 0.0345 - loss: 0.0021 - val_IMF_loss: 3.3645e-05 - val_IMF_mae: 0.0041 - val_PPPF_loss: 0.0016 - val_PPPF_mae: 0.0299 - val_loss: 0.0016\n",
            "Epoch 47/50\n",
            "\u001b[1m600/600\u001b[0m \u001b[32m━━━━━━━━━━━━━━━━━━━━\u001b[0m\u001b[37m\u001b[0m \u001b[1m1s\u001b[0m 2ms/step - IMF_loss: 1.1114e-04 - IMF_mae: 0.0049 - PPPF_loss: 0.0016 - PPPF_mae: 0.0295 - loss: 0.0017 - val_IMF_loss: 2.5203e-05 - val_IMF_mae: 0.0028 - val_PPPF_loss: 0.0016 - val_PPPF_mae: 0.0287 - val_loss: 0.0017\n",
            "Epoch 48/50\n",
            "\u001b[1m600/600\u001b[0m \u001b[32m━━━━━━━━━━━━━━━━━━━━\u001b[0m\u001b[37m\u001b[0m \u001b[1m3s\u001b[0m 4ms/step - IMF_loss: 9.2199e-05 - IMF_mae: 0.0051 - PPPF_loss: 0.0018 - PPPF_mae: 0.0312 - loss: 0.0019 - val_IMF_loss: 1.0800e-04 - val_IMF_mae: 0.0067 - val_PPPF_loss: 0.0022 - val_PPPF_mae: 0.0343 - val_loss: 0.0023\n",
            "Epoch 49/50\n",
            "\u001b[1m600/600\u001b[0m \u001b[32m━━━━━━━━━━━━━━━━━━━━\u001b[0m\u001b[37m\u001b[0m \u001b[1m2s\u001b[0m 3ms/step - IMF_loss: 9.7656e-05 - IMF_mae: 0.0060 - PPPF_loss: 0.0021 - PPPF_mae: 0.0347 - loss: 0.0022 - val_IMF_loss: 1.1951e-04 - val_IMF_mae: 0.0051 - val_PPPF_loss: 0.0018 - val_PPPF_mae: 0.0319 - val_loss: 0.0020\n",
            "Epoch 50/50\n",
            "\u001b[1m600/600\u001b[0m \u001b[32m━━━━━━━━━━━━━━━━━━━━\u001b[0m\u001b[37m\u001b[0m \u001b[1m1s\u001b[0m 2ms/step - IMF_loss: 6.1989e-05 - IMF_mae: 0.0050 - PPPF_loss: 0.0017 - PPPF_mae: 0.0312 - loss: 0.0018 - val_IMF_loss: 3.9131e-05 - val_IMF_mae: 0.0041 - val_PPPF_loss: 0.0016 - val_PPPF_mae: 0.0303 - val_loss: 0.0017\n"
          ]
        },
        {
          "output_type": "execute_result",
          "data": {
            "text/plain": [
              "<keras.src.callbacks.history.History at 0x7854915fff90>"
            ]
          },
          "metadata": {},
          "execution_count": 107
        }
      ]
    },
    {
      "cell_type": "markdown",
      "source": [
        "##Testing"
      ],
      "metadata": {
        "id": "xzi9i47eFwzH"
      }
    },
    {
      "cell_type": "markdown",
      "source": [
        "Predicting IMF and PPPF"
      ],
      "metadata": {
        "id": "9R_f3HY2Dvcl"
      }
    },
    {
      "cell_type": "code",
      "source": [
        "predictions = best_model.predict(X_test)\n",
        "\n",
        "\n",
        "if len(predictions) == 2:\n",
        "    IMF_predictions = predictions[0]\n",
        "    PPPF_predictions = predictions[1]\n",
        "\n",
        "print(\"IMF Predictions (first 5):\", IMF_predictions[:5])\n",
        "print(\"PPPF Predictions (first 5):\", PPPF_predictions[:5])"
      ],
      "metadata": {
        "colab": {
          "base_uri": "https://localhost:8080/"
        },
        "id": "FqOyjSc-2QXk",
        "outputId": "48a1af70-33b1-4678-9261-7abf46059ecd"
      },
      "execution_count": null,
      "outputs": [
        {
          "output_type": "stream",
          "name": "stdout",
          "text": [
            "\u001b[1m12/12\u001b[0m \u001b[32m━━━━━━━━━━━━━━━━━━━━\u001b[0m\u001b[37m\u001b[0m \u001b[1m0s\u001b[0m 10ms/step\n",
            "IMF Predictions (first 5): [[1.3192359]\n",
            " [1.3246114]\n",
            " [1.3152871]\n",
            " [1.3392308]\n",
            " [1.3052394]]\n",
            "PPPF Predictions (first 5): [[1.9092442]\n",
            " [1.8791753]\n",
            " [1.9755075]\n",
            " [1.8564227]\n",
            " [1.9905673]]\n"
          ]
        }
      ]
    },
    {
      "cell_type": "markdown",
      "source": [
        "Calculating Test Loss"
      ],
      "metadata": {
        "id": "IRaSp5B6Dywk"
      }
    },
    {
      "cell_type": "code",
      "source": [
        "best_model.compile(\n",
        "    optimizer=keras.optimizers.Adam(learning_rate=study.best_params['learningrate']),\n",
        "    loss={'IMF': 'mse', 'PPPF': 'mse'},\n",
        "    metrics={'IMF': 'mae', 'PPPF': 'mae'}\n",
        ")\n",
        "\n",
        "results = best_model.evaluate(X_test, Y_test)\n",
        "\n",
        "test_loss = results[0]\n",
        "imf_mse = results[1]\n",
        "pppf_mse = results[2]\n",
        "imf_mae = results[3]\n",
        "pppf_mae = results[4]\n",
        "\n",
        "\n",
        "print(f\"Test Loss: {test_loss}\")\n",
        "print(f\"Test IMF MAE: {imf_mae}\")\n",
        "print(f\"Test IMF MSE: {imf_mse}\")\n",
        "print(f\"Test PPPF MAE: {pppf_mae}\")\n",
        "print(f\"Test PPPF MSE: {pppf_mse}\")"
      ],
      "metadata": {
        "colab": {
          "base_uri": "https://localhost:8080/"
        },
        "id": "nNreO-_8CK4H",
        "outputId": "d18213e7-1532-4c4c-fec6-08feecb5a004"
      },
      "execution_count": null,
      "outputs": [
        {
          "output_type": "stream",
          "name": "stdout",
          "text": [
            "\u001b[1m12/12\u001b[0m \u001b[32m━━━━━━━━━━━━━━━━━━━━\u001b[0m\u001b[37m\u001b[0m \u001b[1m0s\u001b[0m 2ms/step - IMF_loss: 5.2701e-04 - IMF_mae: 0.0056 - PPPF_loss: 0.0019 - PPPF_mae: 0.0323 - loss: 0.0024  \n",
            "Test Loss: 0.002276485785841942\n",
            "Test IMF MAE: 0.005266352090984583\n",
            "Test IMF MSE: 0.000511332880705595\n",
            "Test PPPF MAE: 0.031232086941599846\n",
            "Test PPPF MSE: 0.001768571324646473\n"
          ]
        }
      ]
    }
  ],
  "metadata": {
    "colab": {
      "provenance": []
    },
    "kernelspec": {
      "display_name": "Python 3",
      "name": "python3"
    },
    "language_info": {
      "name": "python"
    }
  },
  "nbformat": 4,
  "nbformat_minor": 0
}